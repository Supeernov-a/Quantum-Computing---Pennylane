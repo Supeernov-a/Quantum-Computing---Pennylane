{
  "cells": [
    {
      "cell_type": "markdown",
      "metadata": {
        "id": "cA67cZjB-jf7"
      },
      "source": [
        "# Basic Tutorial of Pennylane"
      ]
    },
    {
      "cell_type": "code",
      "source": [
        "!pip install tikzplotlib"
      ],
      "metadata": {
        "colab": {
          "base_uri": "https://localhost:8080/"
        },
        "id": "msDYPE-SkI2v",
        "outputId": "d0e3c0a5-4873-4477-ac96-027b690a51fd"
      },
      "execution_count": 10,
      "outputs": [
        {
          "output_type": "stream",
          "name": "stdout",
          "text": [
            "Collecting tikzplotlib\n",
            "  Downloading tikzplotlib-0.10.1-py3-none-any.whl (54 kB)\n",
            "\u001b[?25l     \u001b[90m━━━━━━━━━━━━━━━━━━━━━━━━━━━━━━━━━━━━━━━━\u001b[0m \u001b[32m0.0/54.2 kB\u001b[0m \u001b[31m?\u001b[0m eta \u001b[36m-:--:--\u001b[0m\r\u001b[2K     \u001b[90m━━━━━━━━━━━━━━━━━━━━━━━━━━━━━━━━━━━━━━━━\u001b[0m \u001b[32m54.2/54.2 kB\u001b[0m \u001b[31m2.2 MB/s\u001b[0m eta \u001b[36m0:00:00\u001b[0m\n",
            "\u001b[?25hRequirement already satisfied: matplotlib>=1.4.0 in /usr/local/lib/python3.10/dist-packages (from tikzplotlib) (3.7.1)\n",
            "Requirement already satisfied: numpy in /usr/local/lib/python3.10/dist-packages (from tikzplotlib) (1.25.2)\n",
            "Requirement already satisfied: Pillow in /usr/local/lib/python3.10/dist-packages (from tikzplotlib) (9.4.0)\n",
            "Requirement already satisfied: webcolors in /usr/local/lib/python3.10/dist-packages (from tikzplotlib) (1.13)\n",
            "Requirement already satisfied: contourpy>=1.0.1 in /usr/local/lib/python3.10/dist-packages (from matplotlib>=1.4.0->tikzplotlib) (1.2.1)\n",
            "Requirement already satisfied: cycler>=0.10 in /usr/local/lib/python3.10/dist-packages (from matplotlib>=1.4.0->tikzplotlib) (0.12.1)\n",
            "Requirement already satisfied: fonttools>=4.22.0 in /usr/local/lib/python3.10/dist-packages (from matplotlib>=1.4.0->tikzplotlib) (4.51.0)\n",
            "Requirement already satisfied: kiwisolver>=1.0.1 in /usr/local/lib/python3.10/dist-packages (from matplotlib>=1.4.0->tikzplotlib) (1.4.5)\n",
            "Requirement already satisfied: packaging>=20.0 in /usr/local/lib/python3.10/dist-packages (from matplotlib>=1.4.0->tikzplotlib) (24.0)\n",
            "Requirement already satisfied: pyparsing>=2.3.1 in /usr/local/lib/python3.10/dist-packages (from matplotlib>=1.4.0->tikzplotlib) (3.1.2)\n",
            "Requirement already satisfied: python-dateutil>=2.7 in /usr/local/lib/python3.10/dist-packages (from matplotlib>=1.4.0->tikzplotlib) (2.8.2)\n",
            "Requirement already satisfied: six>=1.5 in /usr/local/lib/python3.10/dist-packages (from python-dateutil>=2.7->matplotlib>=1.4.0->tikzplotlib) (1.16.0)\n",
            "Installing collected packages: tikzplotlib\n",
            "Successfully installed tikzplotlib-0.10.1\n"
          ]
        }
      ]
    },
    {
      "cell_type": "code",
      "execution_count": 1,
      "metadata": {
        "colab": {
          "base_uri": "https://localhost:8080/"
        },
        "id": "l-CPKuklsv5T",
        "outputId": "8aa6a582-3887-4c96-ecc3-08b5988cf573"
      },
      "outputs": [
        {
          "output_type": "stream",
          "name": "stdout",
          "text": [
            "Collecting pennylane\n",
            "  Downloading PennyLane-0.35.1-py3-none-any.whl (1.6 MB)\n",
            "\u001b[?25l     \u001b[90m━━━━━━━━━━━━━━━━━━━━━━━━━━━━━━━━━━━━━━━━\u001b[0m \u001b[32m0.0/1.6 MB\u001b[0m \u001b[31m?\u001b[0m eta \u001b[36m-:--:--\u001b[0m\r\u001b[2K     \u001b[91m━━━\u001b[0m\u001b[91m╸\u001b[0m\u001b[90m━━━━━━━━━━━━━━━━━━━━━━━━━━━━━━━━━━━━\u001b[0m \u001b[32m0.2/1.6 MB\u001b[0m \u001b[31m4.4 MB/s\u001b[0m eta \u001b[36m0:00:01\u001b[0m\r\u001b[2K     \u001b[91m━━━━━━━━━━━━━━━━\u001b[0m\u001b[91m╸\u001b[0m\u001b[90m━━━━━━━━━━━━━━━━━━━━━━━\u001b[0m \u001b[32m0.7/1.6 MB\u001b[0m \u001b[31m9.5 MB/s\u001b[0m eta \u001b[36m0:00:01\u001b[0m\r\u001b[2K     \u001b[91m━━━━━━━━━━━━━━━━━━━━━━━━━━━━━━━━━\u001b[0m\u001b[90m╺\u001b[0m\u001b[90m━━━━━━\u001b[0m \u001b[32m1.3/1.6 MB\u001b[0m \u001b[31m12.6 MB/s\u001b[0m eta \u001b[36m0:00:01\u001b[0m\r\u001b[2K     \u001b[91m━━━━━━━━━━━━━━━━━━━━━━━━━━━━━━━━━━━━━━━\u001b[0m\u001b[91m╸\u001b[0m \u001b[32m1.6/1.6 MB\u001b[0m \u001b[31m13.4 MB/s\u001b[0m eta \u001b[36m0:00:01\u001b[0m\r\u001b[2K     \u001b[90m━━━━━━━━━━━━━━━━━━━━━━━━━━━━━━━━━━━━━━━━\u001b[0m \u001b[32m1.6/1.6 MB\u001b[0m \u001b[31m10.7 MB/s\u001b[0m eta \u001b[36m0:00:00\u001b[0m\n",
            "\u001b[?25hRequirement already satisfied: numpy in /usr/local/lib/python3.10/dist-packages (from pennylane) (1.25.2)\n",
            "Requirement already satisfied: scipy in /usr/local/lib/python3.10/dist-packages (from pennylane) (1.11.4)\n",
            "Requirement already satisfied: networkx in /usr/local/lib/python3.10/dist-packages (from pennylane) (3.3)\n",
            "Collecting rustworkx (from pennylane)\n",
            "  Downloading rustworkx-0.14.2-cp310-cp310-manylinux_2_17_x86_64.manylinux2014_x86_64.whl (2.1 MB)\n",
            "\u001b[2K     \u001b[90m━━━━━━━━━━━━━━━━━━━━━━━━━━━━━━━━━━━━━━━━\u001b[0m \u001b[32m2.1/2.1 MB\u001b[0m \u001b[31m26.7 MB/s\u001b[0m eta \u001b[36m0:00:00\u001b[0m\n",
            "\u001b[?25hRequirement already satisfied: autograd in /usr/local/lib/python3.10/dist-packages (from pennylane) (1.6.2)\n",
            "Requirement already satisfied: toml in /usr/local/lib/python3.10/dist-packages (from pennylane) (0.10.2)\n",
            "Requirement already satisfied: appdirs in /usr/local/lib/python3.10/dist-packages (from pennylane) (1.4.4)\n",
            "Collecting semantic-version>=2.7 (from pennylane)\n",
            "  Downloading semantic_version-2.10.0-py2.py3-none-any.whl (15 kB)\n",
            "Collecting autoray>=0.6.1 (from pennylane)\n",
            "  Downloading autoray-0.6.9-py3-none-any.whl (49 kB)\n",
            "\u001b[2K     \u001b[90m━━━━━━━━━━━━━━━━━━━━━━━━━━━━━━━━━━━━━━━━\u001b[0m \u001b[32m49.8/49.8 kB\u001b[0m \u001b[31m4.6 MB/s\u001b[0m eta \u001b[36m0:00:00\u001b[0m\n",
            "\u001b[?25hRequirement already satisfied: cachetools in /usr/local/lib/python3.10/dist-packages (from pennylane) (5.3.3)\n",
            "Collecting pennylane-lightning>=0.35 (from pennylane)\n",
            "  Downloading PennyLane_Lightning-0.35.1-cp310-cp310-manylinux_2_17_x86_64.manylinux2014_x86_64.whl (18.5 MB)\n",
            "\u001b[2K     \u001b[90m━━━━━━━━━━━━━━━━━━━━━━━━━━━━━━━━━━━━━━━━\u001b[0m \u001b[32m18.5/18.5 MB\u001b[0m \u001b[31m41.6 MB/s\u001b[0m eta \u001b[36m0:00:00\u001b[0m\n",
            "\u001b[?25hRequirement already satisfied: requests in /usr/local/lib/python3.10/dist-packages (from pennylane) (2.31.0)\n",
            "Requirement already satisfied: typing-extensions in /usr/local/lib/python3.10/dist-packages (from pennylane) (4.11.0)\n",
            "Requirement already satisfied: future>=0.15.2 in /usr/local/lib/python3.10/dist-packages (from autograd->pennylane) (0.18.3)\n",
            "Requirement already satisfied: charset-normalizer<4,>=2 in /usr/local/lib/python3.10/dist-packages (from requests->pennylane) (3.3.2)\n",
            "Requirement already satisfied: idna<4,>=2.5 in /usr/local/lib/python3.10/dist-packages (from requests->pennylane) (3.7)\n",
            "Requirement already satisfied: urllib3<3,>=1.21.1 in /usr/local/lib/python3.10/dist-packages (from requests->pennylane) (2.0.7)\n",
            "Requirement already satisfied: certifi>=2017.4.17 in /usr/local/lib/python3.10/dist-packages (from requests->pennylane) (2024.2.2)\n",
            "Installing collected packages: semantic-version, rustworkx, autoray, pennylane-lightning, pennylane\n",
            "Successfully installed autoray-0.6.9 pennylane-0.35.1 pennylane-lightning-0.35.1 rustworkx-0.14.2 semantic-version-2.10.0\n"
          ]
        }
      ],
      "source": [
        "!pip install pennylane"
      ]
    },
    {
      "cell_type": "code",
      "execution_count": 2,
      "metadata": {
        "id": "8Vxqms-A9mBY"
      },
      "outputs": [],
      "source": [
        "# Import libraries\n",
        "# ==============================================================================\n",
        "import pennylane as qml\n",
        "from pennylane import numpy as np\n",
        "import matplotlib.pyplot as plt\n",
        "\n"
      ]
    },
    {
      "cell_type": "markdown",
      "metadata": {
        "id": "X_yZ1EGzPyj5"
      },
      "source": [
        "## Defining a device\n",
        "\n",
        "It is important to understand that to run a quantum circuit, we need to first specify a computational device. Here some  simulators :\n",
        "\n",
        "*  **default.qubit:** This is a basic quantum simulator that represents qubits, the fundamental units of quantum information. It simulates the behavior of qubits, such as superposition and entanglement, and allows users to perform quantum operations on these qubits.\n",
        "\n",
        "*  **default.mixed:** This simulator represents mixed states, which are a combination of pure states and can be described using density matrices. It allows users to study more complex quantum systems that involve mixed states rather than just pure quantum states.\n",
        "\n",
        "*  **lightning.qubit:** This simulator is designed for fast and efficient simulation of quantum circuits that operate on qubits. It uses optimized algorithms to speed up calculations and can be useful for performing quick simulations of quantum algorithms or circuits.\n",
        "\n",
        "*  **default.gaussian:** This simulator models Gaussian states, which are a special type of quantum state that can be described using Gaussian distributions in phase space. These states are commonly used in quantum optics and quantum information processing.\n",
        "\n",
        "*  **default.clifford:** This simulator is specifically designed for simulating Clifford circuits, which are a special class of quantum circuits that can be efficiently simulated using classical computers. Clifford operations are a set of quantum gates that are easy to simulate, making this simulator useful for studying quantum algorithms that involve a large number of Clifford gates."
      ]
    },
    {
      "cell_type": "markdown",
      "metadata": {
        "id": "bSdimw1I3M5W"
      },
      "source": [
        "This code create a quantum device with 1 qubit, by default the state begins in the state\n",
        "\\begin{equation}\n",
        "|0\\rangle = \\begin{bmatrix}\n",
        "1\\\\\n",
        "0\n",
        "\\end{bmatrix}\n",
        "\\end{equation}"
      ]
    },
    {
      "cell_type": "code",
      "execution_count": null,
      "metadata": {
        "colab": {
          "base_uri": "https://localhost:8080/"
        },
        "id": "MYUVn06IzclO",
        "outputId": "3bd377a0-83ad-46b9-8533-982d0a1b740f"
      },
      "outputs": [
        {
          "name": "stdout",
          "output_type": "stream",
          "text": [
            "[1.+0.j 0.+0.j]\n"
          ]
        }
      ],
      "source": [
        "# Create a quantum circuit with 1 qubit, by default the state begins in the state \\ket(0)\n",
        "#===============================================================================\n",
        "dev = qml.device(\"default.qubit\", wires = 1)\n",
        "\n",
        "@qml.qnode(dev)\n",
        "def circuit():\n",
        "    return qml.state()   # state() function will return the current quantum state of the system\n",
        "\n",
        "\n",
        "# Execute the circuit to obtain the quantum state\n",
        "# ==============================================================================\n",
        "state = circuit()\n",
        "print(state)\n"
      ]
    },
    {
      "cell_type": "markdown",
      "metadata": {
        "id": "1SfaKGe345M9"
      },
      "source": [
        "**Pauli gates**\n",
        "\n",
        "Pauli gates are the three Pauli operators $(\\hat{\\sigma}_{x},\\hat{\\sigma}_{y},\\hat{\\sigma}_{z})$\n",
        "\n",
        "\\begin{equation}\n",
        "X= \\begin{bmatrix}\n",
        "              0 & 1 \\\\\n",
        "              1 & 0  \n",
        "             \\end{bmatrix}\n",
        "             \\quad\n",
        "Y = \\begin{bmatrix}\n",
        "              0 & -i \\\\\n",
        "              i & 0  \n",
        "             \\end{bmatrix}\n",
        "             \\quad\n",
        "Z = \\begin{bmatrix}\n",
        "              1 & 0 \\\\\n",
        "              0 & 1  \n",
        "             \\end{bmatrix}\n",
        "\\end{equation}\n",
        "\n",
        "The circuit representation of X, Y, Z Pauli gates, respectively:\n",
        "\n",
        "\\begin{equation}\n",
        "──\\fbox{X}──\\quad ──\\fbox{Y}── \\quad ──\\fbox{Z}──\n",
        "\\end{equation}\n",
        "\n",
        "The Pauli-X gate is sometimes referred to as the quantum NOT gate,\n",
        "as its action on a qubit state is to change $|0\\rangle$\n",
        " to $|1\\rangle$ and $|1 \\rangle$ to $|0\\rangle$. Similarly, the Pauli-Y maps  $|0\\rangle$ to $i|1\\rangle$. While Pauli Z leaves the basis state  $|0\\rangle$ unchanged and maps $|1\\rangle$ to $-|1\\rangle$ . Using pennylane, let us test the above commented"
      ]
    },
    {
      "cell_type": "code",
      "execution_count": null,
      "metadata": {
        "colab": {
          "base_uri": "https://localhost:8080/"
        },
        "id": "TDOB8RhqRm5Y",
        "outputId": "bf0ae0cc-9746-4fa6-d027-105d659a8728"
      },
      "outputs": [
        {
          "name": "stdout",
          "output_type": "stream",
          "text": [
            "[0.+0.j 1.+0.j]\n"
          ]
        }
      ],
      "source": [
        "# Pauli-Y Gate applies to state \\ket(0)\n",
        "# ==============================================================================\n",
        "dev = qml.device(\"default.qubit\", wires = 1)\n",
        "\n",
        "@qml.qnode(dev)\n",
        "\n",
        "def circuit():\n",
        "  qml.PauliX(wires = 0)\n",
        "  return qml.state()\n",
        "\n",
        "\n",
        "# Execute the circuit to obtain the quantum state\n",
        "# ==============================================================================\n",
        "state = circuit()\n",
        "print(state)"
      ]
    },
    {
      "cell_type": "markdown",
      "metadata": {
        "id": "sidrqVge8P9p"
      },
      "source": [
        "**The Hadamard gate**\n",
        "\n",
        "It acts on a single qubit, and is defined as\n",
        "\n",
        "\\begin{equation}\n",
        "H = \\frac{1}{\\sqrt{2}}\\begin{bmatrix}\n",
        "1 & 1\\\\\n",
        "1 & -1\n",
        "\\end{bmatrix}.\n",
        "\\end{equation}\n",
        "\n",
        "The circuit representation of Hadamard gate\n",
        "\n",
        "\\begin{equation}\n",
        "──\\fbox{H}──\n",
        "\\end{equation}\n",
        "\n",
        "Also, Hadamard gate maps the basis states\n",
        "\n",
        "\\begin{equation}\n",
        "|0 \\rangle = \\dfrac{|0\\rangle + |1\\rangle}{\\sqrt{2}} \\quad \\text{and} \\quad |1 \\rangle = \\dfrac{|0\\rangle - |1\\rangle}{\\sqrt{2}}\n",
        "\\end{equation}\n",
        "\n",
        "\n"
      ]
    },
    {
      "cell_type": "code",
      "execution_count": null,
      "metadata": {
        "colab": {
          "base_uri": "https://localhost:8080/"
        },
        "id": "X55H_1kD6IXj",
        "outputId": "a0b050e7-79a4-4df0-f72f-36a7c1559f1e"
      },
      "outputs": [
        {
          "name": "stdout",
          "output_type": "stream",
          "text": [
            "The final state is  [0.70710678+0.j 0.70710678+0.j]\n"
          ]
        }
      ],
      "source": [
        "# Code in pennylane for the state \\ket(0)\n",
        "# ==============================================================================\n",
        "dev = qml.device(\"default.qubit\", wires = 1)\n",
        "\n",
        "@qml.qnode(dev)\n",
        "\n",
        "def circuit():\n",
        "  qml.Hadamard(wires = 0)\n",
        "  return qml.state()\n",
        "\n",
        "# Execute the circuit to obtain the quantum state\n",
        "# ==============================================================================\n",
        "state = circuit()\n",
        "print('The final state is ', state)"
      ]
    },
    {
      "cell_type": "code",
      "execution_count": null,
      "metadata": {
        "colab": {
          "base_uri": "https://localhost:8080/"
        },
        "id": "In8JlWe4-FeQ",
        "outputId": "fd05d007-780b-45d5-d0bc-236c8b5ea621"
      },
      "outputs": [
        {
          "name": "stdout",
          "output_type": "stream",
          "text": [
            "The final state is  [ 0.70710678+0.j -0.70710678+0.j]\n"
          ]
        }
      ],
      "source": [
        "# Code in pennylane for the state \\ket(1)\n",
        "# ==============================================================================\n",
        "dev = qml.device(\"default.qubit\", wires = 1)\n",
        "\n",
        "@qml.qnode(dev)\n",
        "\n",
        "def circuit():\n",
        "  qml.PauliX(wires = 0)\n",
        "  qml.Hadamard(wires = 0)\n",
        "  return qml.state()\n",
        "\n",
        "\n",
        "# Execute the circuit to obtain the quantum state\n",
        "# ==============================================================================\n",
        "state = circuit()\n",
        "print('The final state is ', state)"
      ]
    },
    {
      "cell_type": "markdown",
      "metadata": {
        "id": "22AGnQ4WSKZV"
      },
      "source": [
        "**Phase shift Gate**\n",
        "\n",
        "The phase shift is a family of single-qubit gates that map the basis states\n",
        "$|0 \\rangle$ to $|0 \\rangle$ and $|1 \\rangle$ to $e^{i\\phi} |1 \\rangle$  . The probability of measuring a $|0 \\rangle$ and $|1 \\rangle$  is unchanged after applying this gate, however it modifies the phase of the quantum state.\n"
      ]
    },
    {
      "cell_type": "code",
      "execution_count": 14,
      "metadata": {
        "colab": {
          "base_uri": "https://localhost:8080/"
        },
        "id": "2ibeEls5SNws",
        "outputId": "d4e2b77b-869b-4254-c583-64de30b8e2f5"
      },
      "outputs": [
        {
          "output_type": "stream",
          "name": "stdout",
          "text": [
            "The final state is  [0.        +0.j         0.70710678+0.70710678j]\n"
          ]
        }
      ],
      "source": [
        "angle = np.pi/4\n",
        "\n",
        "dev = qml.device('default.qubit', wires = 1)\n",
        "\n",
        "@qml.qnode(dev)\n",
        "\n",
        "def circuit():\n",
        "  qml.PauliX(wires = 0)\n",
        "  qml.PhaseShift(angle, wires = 0)\n",
        "  return qml.state()\n",
        "\n",
        "# Execute the circuit to obtain the quantum state\n",
        "# ==============================================================================\n",
        "state = circuit()\n",
        "print('The final state is ', state)\n",
        "\n"
      ]
    },
    {
      "cell_type": "markdown",
      "source": [
        "**Controlled gates**\n",
        "\n",
        "Controlled gates act on 2 or more qubits, where one or more qubits act as a control for some operation, and  is represented by the Hermitian unitary matrix:\n",
        "\n",
        "\\begin{equation}\n",
        "CNOT = \\begin{bmatrix}\n",
        "        1 & 0 & 0 & 0\\\\\n",
        "        0 & 1 & 0 & 0\\\\\n",
        "        0 & 0 & 0 & 1\\\\\n",
        "        0 & 0 & 1 & 0\n",
        "       \\end{bmatrix}\n",
        "\\end{equation}"
      ],
      "metadata": {
        "id": "WT7HXkNxiBEV"
      }
    },
    {
      "cell_type": "markdown",
      "source": [
        "**Ploting a Quantum Circuit**"
      ],
      "metadata": {
        "id": "WJFPcS0MUQhb"
      }
    },
    {
      "cell_type": "code",
      "source": [
        "dev = qml.device('default.qubit', wires=1)\n",
        "\n",
        "@qml.qnode(dev)\n",
        "def hadamard_circuit():\n",
        "    qml.PauliX(wires=0)\n",
        "    qml.PauliZ(wires = 0)\n",
        "    return qml.state()\n",
        "\n",
        "print(hadamard_circuit())\n",
        "\n",
        "# Visualization of the quantum circuit,in format ASCII, using draw function\n",
        "print(qml.draw(hadamard_circuit)())\n",
        "\n",
        "# Visualization of the quantum circuit using matplotlib and draw_mpl function\n",
        "import matplotlib.pyplot as plt\n",
        "qml.drawer.use_style(\"black_white\")\n",
        "fig, ax = qml.draw_mpl(hadamard_circuit)()\n",
        "plt.show()"
      ],
      "metadata": {
        "id": "8TAYk-TLbyun",
        "colab": {
          "base_uri": "https://localhost:8080/",
          "height": 273
        },
        "outputId": "627093fa-d00b-4705-b1d1-5316e209c032"
      },
      "execution_count": 6,
      "outputs": [
        {
          "output_type": "stream",
          "name": "stdout",
          "text": [
            "[ 0.+0.j -1.+0.j]\n",
            "0: ──X──Z─┤  State\n"
          ]
        },
        {
          "output_type": "display_data",
          "data": {
            "text/plain": [
              "<Figure size 500x200 with 1 Axes>"
            ],
            "image/png": "[encoded data removed]"
          },
          "metadata": {}
        }
      ]
    },
    {
      "cell_type": "markdown",
      "source": [
        "**Measurements**\n",
        "\n",
        "Let us suppose that  we  initially have a quantum system in the state |0⟩, then we apply two gates: a Pauli gate and a Hadamard gate.\n",
        "\\begin{equation}\n",
        "\\begin{split}\n",
        "|0⟩ ── \\fbox{X} ── \\fbox{H} ── |\\psi⟩ = α |0 \\rangle +  \\beta |1 ⟩?\\\\\n",
        "\\end{split}\n",
        "\\end{equation}\n",
        "\n",
        "If we wish to know the probability of finding the state |0⟩, we need to find the value of $|α|^2$. Performing calculations\n",
        "\n",
        "\\begin{equation}\n",
        "\\begin{split}\n",
        "|\\psi \\rangle &= HX|0⟩ = \\frac{1}{\\sqrt{2}}\\begin{bmatrix}1 & 1\\\\\n",
        "                                         1 & -1\n",
        "                          \\end{bmatrix}\n",
        "                          \\begin{bmatrix}0 & 1\\\\\n",
        "                                         1 & 0\n",
        "                          \\end{bmatrix}\n",
        "                          \\begin{bmatrix}1 \\\\\n",
        "                                         0\n",
        "                          \\end{bmatrix}\\\\\n",
        "|\\psi \\rangle  &= \\frac{1}{\\sqrt{2}}\\begin{bmatrix}1 &1\\\\\n",
        "                                         1 & -1\n",
        "                          \\end{bmatrix}\n",
        "                          \\begin{bmatrix}1 \\\\\n",
        "                                         0\n",
        "                          \\end{bmatrix}\\\\\n",
        "|\\psi \\rangle  &= \\frac{1}{\\sqrt{2}}\\begin{bmatrix}1\\\\\n",
        "                                         1\n",
        "                          \\end{bmatrix}\\\\\n",
        "|\\psi \\rangle &=  \\frac{1}{\\sqrt{2}}\\Big(|0\\rangle+|1⟩\\Big)\n",
        "\\end{split}\n",
        "\\end{equation}\n",
        "\n",
        "From the last equation, we can identify that $\\alpha= β = \\frac{1}{\\sqrt{2}}$. Then, the probability of finding the state $|0\\rangle$ is:\n",
        "\n",
        "\\begin{equation}\n",
        "|α|^2 = 1/2 = 0.5\n",
        "\\end{equation}"
      ],
      "metadata": {
        "id": "gQhwIMIcZScJ"
      }
    },
    {
      "cell_type": "code",
      "source": [
        "dev = qml.device('default.qubit', wires = 1)\n",
        "\n",
        "@qml.qnode(dev)\n",
        "\n",
        "#\n",
        "def Prob():\n",
        "  qml.PauliX(wires = 0)\n",
        "  qml.Hadamard(wires = 0)\n",
        "  return qml.probs()\n",
        "\n",
        "result = Prob()\n",
        "print('The probability of finding the 0-state is: ', result)\n",
        "\n",
        "# Drawing our quantum circuit\n",
        "import matplotlib.pyplot as plt\n",
        "qml.drawer.use_style(\"black_white\")\n",
        "fig, ax = qml.draw_mpl(Prob)()\n",
        "plt.show()"
      ],
      "metadata": {
        "colab": {
          "base_uri": "https://localhost:8080/",
          "height": 255
        },
        "id": "WTRs_jzbUOHV",
        "outputId": "835afc73-822d-4811-8211-d2321101a912"
      },
      "execution_count": 9,
      "outputs": [
        {
          "output_type": "stream",
          "name": "stdout",
          "text": [
            "The probability of finding the 0-state is:  [0.5 0.5]\n"
          ]
        },
        {
          "output_type": "display_data",
          "data": {
            "text/plain": [
              "<Figure size 500x200 with 1 Axes>"
            ],
            "image/png": "[encoded data removed]"
          },
          "metadata": {}
        }
      ]
    },
    {
      "cell_type": "code",
      "source": [
        "dev = qml.device(\"default.qubit\", wires=2)\n",
        "\n",
        "@qml.qnode(dev)\n",
        "def circuit():\n",
        "    qml.prod(qml.PauliY(wires=0)@qml.PauliX(wires=1))\n",
        "    return qml.state()\n",
        "\n",
        "\n",
        "result = circuit()\n",
        "print(result)\n",
        "qml.drawer.use_style(\"black_white\")\n",
        "fig, ax = qml.draw_mpl(circuit)()\n",
        "plt.show()"
      ],
      "metadata": {
        "colab": {
          "base_uri": "https://localhost:8080/",
          "height": 355
        },
        "id": "Uwka_DILg1z0",
        "outputId": "a7029c76-aec6-4abd-856b-2898608e4bae"
      },
      "execution_count": 20,
      "outputs": [
        {
          "output_type": "stream",
          "name": "stdout",
          "text": [
            "[0.+0.j 0.+0.j 0.+0.j 0.+1.j]\n"
          ]
        },
        {
          "output_type": "display_data",
          "data": {
            "text/plain": [
              "<Figure size 400x300 with 1 Axes>"
            ],
            "image/png": "[encoded data removed]"
          },
          "metadata": {}
        }
      ]
    },
    {
      "cell_type": "code",
      "source": [],
      "metadata": {
        "id": "qgFJZBHpqDPi"
      },
      "execution_count": null,
      "outputs": []
    }
  ],
  "metadata": {
    "colab": {
      "provenance": []
    },
    "kernelspec": {
      "display_name": "Python 3",
      "name": "python3"
    },
    "language_info": {
      "name": "python"
    }
  },
  "nbformat": 4,
  "nbformat_minor": 0
}